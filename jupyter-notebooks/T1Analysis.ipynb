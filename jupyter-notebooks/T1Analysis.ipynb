{
 "cells": [
  {
   "cell_type": "code",
   "execution_count": null,
   "metadata": {},
   "outputs": [],
   "source": [
    "import numpy as np\n",
    "import matplotlib.pyplot as plt\n",
    "\n",
    "# Get strip array from txt file\n",
    "resets = np.genfromtxt(\"/home/layh/Documents/PhD/Research/crt/bt_data/reset_events/sum_t1resets.txt\", delimiter=\",\")"
   ]
  },
  {
   "cell_type": "code",
   "execution_count": null,
   "metadata": {},
   "outputs": [],
   "source": [
    "# Debug by printing\n",
    "print(resets)"
   ]
  },
  {
   "cell_type": "code",
   "execution_count": null,
   "metadata": {},
   "outputs": [],
   "source": [
    "# Just learning how to use python\n",
    "print(type(resets))\n",
    "print(resets.shape)"
   ]
  },
  {
   "cell_type": "code",
   "execution_count": null,
   "metadata": {},
   "outputs": [],
   "source": [
    "plt.hist(resets[:,1], bins=100, range=(0,1.2e9))\n",
    "plt.xlabel(\"ts0 [ns]\")\n",
    "plt.ylabel(\"T1 Reset Events\")\n",
    "plt.show()\n",
    "\n",
    "plt.hist(resets[:,1], bins=100, range=(0,1e8))\n",
    "plt.xlabel(\"ts0 [ns]\")\n",
    "plt.ylabel(\"T1 Reset Events\")\n",
    "plt.show()\n",
    "\n",
    "plt.hist(resets[:,1], bins=100, range=(0,1e7))\n",
    "plt.xlabel(\"ts0 [ns]\")\n",
    "plt.ylabel(\"T1 Reset Events\")\n",
    "plt.show()\n",
    "\n",
    "plt.hist(resets[:,1], bins=100, range=(0,1e6))\n",
    "plt.xlabel(\"ts0 [ns]\")\n",
    "plt.ylabel(\"T1 Reset Events\")\n",
    "plt.show()\n",
    "\n",
    "plt.hist(resets[:,1], bins=100, range=(0,1e5))\n",
    "plt.xlabel(\"ts0 [ns]\")\n",
    "plt.ylabel(\"T1 Reset Events\")\n",
    "plt.show()\n",
    "\n",
    "plt.hist(resets[:,2], bins=100, range=(0,1.2e9))\n",
    "plt.xlabel(\"ts1 [ns]\")\n",
    "plt.ylabel(\"T1 Reset Events\")\n",
    "plt.show()\n",
    "\n",
    "plt.hist(resets[:,2], bins=100, range=(0,1e8))\n",
    "plt.xlabel(\"ts1 [ns]\")\n",
    "plt.ylabel(\"T1 Reset Events\")\n",
    "plt.show()\n",
    "\n",
    "plt.hist(resets[:,2], bins=100, range=(1e8,1.2e9))\n",
    "plt.xlabel(\"ts1 [ns]\")\n",
    "plt.ylabel(\"T1 Reset Events\")\n",
    "plt.show()"
   ]
  },
  {
   "cell_type": "code",
   "execution_count": null,
   "metadata": {},
   "outputs": [],
   "source": []
  }
 ],
 "metadata": {
  "kernelspec": {
   "display_name": "Python 3",
   "language": "python",
   "name": "python3"
  },
  "language_info": {
   "codemirror_mode": {
    "name": "ipython",
    "version": 3
   },
   "file_extension": ".py",
   "mimetype": "text/x-python",
   "name": "python",
   "nbconvert_exporter": "python",
   "pygments_lexer": "ipython3",
   "version": "3.8.5"
  }
 },
 "nbformat": 4,
 "nbformat_minor": 4
}

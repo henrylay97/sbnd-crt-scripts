{
 "cells": [
  {
   "cell_type": "code",
   "execution_count": 1,
   "metadata": {},
   "outputs": [],
   "source": [
    "import numpy as np\n",
    "import matplotlib.pyplot as plt\n",
    "\n",
    "# Get strip array from txt file\n",
    "strips = np.genfromtxt(\"SBND_CRTpositionsSiPM-nogaps.txt\", delimiter=None)"
   ]
  },
  {
   "cell_type": "code",
   "execution_count": 2,
   "metadata": {},
   "outputs": [
    {
     "name": "stdout",
     "output_type": "stream",
     "text": [
      "[[9.50000000e+03 3.31000000e+02 1.04625000e+03 ... 1.00000000e+00\n",
      "  0.00000000e+00 0.00000000e+00]\n",
      " [9.50100000e+03 3.31000000e+02 1.04625000e+03 ... 1.00000000e+00\n",
      "  0.00000000e+00 0.00000000e+00]\n",
      " [9.50200000e+03 3.31000000e+02 1.04625000e+03 ... 1.00000000e+00\n",
      "  0.00000000e+00 0.00000000e+00]\n",
      " ...\n",
      " [8.32900000e+03 8.60881213e+02 1.00000000e+02 ... 0.00000000e+00\n",
      "  0.00000000e+00 0.00000000e+00]\n",
      " [8.33000000e+03 8.60981213e+02 1.00000000e+02 ... 0.00000000e+00\n",
      "  0.00000000e+00 0.00000000e+00]\n",
      " [8.33100000e+03 8.66831226e+02 1.00000000e+02 ... 0.00000000e+00\n",
      "  0.00000000e+00 0.00000000e+00]]\n"
     ]
    }
   ],
   "source": [
    "# Debug by printing\n",
    "# Column  0   is strip ID\n",
    "# Columns 1-3 are [x, y, z] positions in building coordinates\n",
    "print(strips)"
   ]
  },
  {
   "cell_type": "code",
   "execution_count": 3,
   "metadata": {},
   "outputs": [
    {
     "name": "stdout",
     "output_type": "stream",
     "text": [
      "<class 'numpy.ndarray'>\n",
      "(768, 7)\n"
     ]
    }
   ],
   "source": [
    "# Just learning how to use python\n",
    "print(type(strips))\n",
    "print(strips.shape)"
   ]
  },
  {
   "cell_type": "code",
   "execution_count": 4,
   "metadata": {},
   "outputs": [],
   "source": [
    "# Remove columns 4 onwards, not needed\n",
    "reduced_strips = strips[:,0:4]"
   ]
  },
  {
   "cell_type": "code",
   "execution_count": 5,
   "metadata": {},
   "outputs": [
    {
     "name": "stdout",
     "output_type": "stream",
     "text": [
      "(768, 4)\n"
     ]
    }
   ],
   "source": [
    "# Check I did it right\n",
    "print(reduced_strips.shape)"
   ]
  },
  {
   "cell_type": "code",
   "execution_count": 6,
   "metadata": {},
   "outputs": [
    {
     "name": "stdout",
     "output_type": "stream",
     "text": [
      "[[9.50000000e+03 3.31000000e+02 1.04625000e+03 4.05000000e+00]\n",
      " [9.50100000e+03 3.31000000e+02 1.04625000e+03 9.90000000e+00]\n",
      " [9.50200000e+03 3.31000000e+02 1.04625000e+03 1.00000000e+01]\n",
      " ...\n",
      " [8.32900000e+03 8.60881213e+02 1.00000000e+02 2.76000000e+02]\n",
      " [8.33000000e+03 8.60981213e+02 1.00000000e+02 2.76000000e+02]\n",
      " [8.33100000e+03 8.66831226e+02 1.00000000e+02 2.76000000e+02]]\n"
     ]
    }
   ],
   "source": [
    "# And again...\n",
    "print(reduced_strips)"
   ]
  },
  {
   "cell_type": "code",
   "execution_count": 7,
   "metadata": {},
   "outputs": [],
   "source": [
    "# The conversion to our usual detector coordinates that I understand\n",
    "# First swap y & z\n",
    "def Swap(arr, start_index, last_index):\n",
    "    arr[:, [start_index, last_index]] = arr[:, [last_index, start_index]]\n",
    "    \n",
    "Swap(reduced_strips, 2, 3)\n",
    "\n",
    "# Invert x-axis\n",
    "reduced_strips = reduced_strips * [1, -1, 1, 1]\n",
    "\n",
    "# Transform origin position (and add 300 to mac5 to match those in Igor's slides)\n",
    "reduced_strips = reduced_strips + [30000, 471, -395, -265]"
   ]
  },
  {
   "cell_type": "code",
   "execution_count": 8,
   "metadata": {},
   "outputs": [
    {
     "name": "stdout",
     "output_type": "stream",
     "text": [
      "[[39500.         140.        -390.95       781.25    ]\n",
      " [39501.         140.        -385.1        781.25    ]\n",
      " [39502.         140.        -385.         781.25    ]\n",
      " ...\n",
      " [38329.        -389.881213  -119.        -165.      ]\n",
      " [38330.        -389.981213  -119.        -165.      ]\n",
      " [38331.        -395.831226  -119.        -165.      ]]\n"
     ]
    }
   ],
   "source": [
    "# Check transformation\n",
    "print(reduced_strips)"
   ]
  },
  {
   "cell_type": "code",
   "execution_count": 11,
   "metadata": {},
   "outputs": [
    {
     "name": "stdout",
     "output_type": "stream",
     "text": [
      "Strip  395.0\n",
      "Downstream\n",
      "Horizontal\n",
      "x:  140.0\n",
      "y:  -390.95  to  -295.850011\n",
      "z:  781.25\n",
      "\n",
      "Strip  394.0\n",
      "Downstream\n",
      "Horizontal\n",
      "x:  140.0\n",
      "y:  -295.740009  to  -200.640057\n",
      "z:  781.25\n",
      "\n",
      "Strip  393.0\n",
      "Downstream\n",
      "Horizontal\n",
      "x:  140.0\n",
      "y:  -200.530063  to  -105.43003499999998\n",
      "z:  781.25\n",
      "\n",
      "Strip  379.0\n",
      "Downstream\n",
      "Vertical\n",
      "x:  44.849805  to  139.95\n",
      "y:  -105.370026\n",
      "z:  781.25\n",
      "\n",
      "Strip  381.0\n",
      "Downstream\n",
      "Vertical\n",
      "x:  -50.36040000000003  to  44.739795000000015\n",
      "y:  -105.370026\n",
      "z:  781.25\n",
      "\n",
      "Strip  380.0\n",
      "Downstream\n",
      "Vertical\n",
      "x:  -145.570605  to  -50.470410000000015\n",
      "y:  -105.370026\n",
      "z:  781.25\n",
      "\n",
      "Strip  404.0\n",
      "Upstream\n",
      "Horizontal\n",
      "x:  189.0\n",
      "y:  -390.95  to  -295.850011\n",
      "z:  -165.0\n",
      "\n",
      "Strip  403.0\n",
      "Upstream\n",
      "Horizontal\n",
      "x:  189.0\n",
      "y:  -295.740009  to  -200.640057\n",
      "z:  -165.0\n",
      "\n",
      "Strip  402.0\n",
      "Upstream\n",
      "Horizontal\n",
      "x:  189.0\n",
      "y:  -200.530063  to  -105.43003499999998\n",
      "z:  -165.0\n",
      "\n",
      "Strip  391.0\n",
      "Upstream\n",
      "Vertical\n",
      "x:  365.850018  to  460.95\n",
      "y:  -119.0\n",
      "z:  -165.0\n",
      "\n",
      "Strip  390.0\n",
      "Upstream\n",
      "Vertical\n",
      "x:  270.640057  to  365.74001599999997\n",
      "y:  -119.0\n",
      "z:  -165.0\n",
      "\n",
      "Strip  389.0\n",
      "Upstream\n",
      "Vertical\n",
      "x:  175.430005  to  270.53006300000004\n",
      "y:  -119.0\n",
      "z:  -165.0\n",
      "\n",
      "Strip  401.0\n",
      "Upstream\n",
      "Horizontal\n",
      "x:  -96.63000499999998\n",
      "y:  -390.95  to  -295.850011\n",
      "z:  -165.0\n",
      "\n",
      "Strip  400.0\n",
      "Upstream\n",
      "Horizontal\n",
      "x:  -96.63000499999998\n",
      "y:  -295.740009  to  -200.640057\n",
      "z:  -165.0\n",
      "\n",
      "Strip  399.0\n",
      "Upstream\n",
      "Horizontal\n",
      "x:  -96.63000499999998\n",
      "y:  -200.530063  to  -105.43003499999998\n",
      "z:  -165.0\n",
      "\n",
      "Strip  388.0\n",
      "Upstream\n",
      "Vertical\n",
      "x:  80.21980000000002  to  175.319995\n",
      "y:  -119.0\n",
      "z:  -165.0\n",
      "\n",
      "Strip  387.0\n",
      "Upstream\n",
      "Vertical\n",
      "x:  -14.99040500000001  to  80.10978999999998\n",
      "y:  -119.0\n",
      "z:  -165.0\n",
      "\n",
      "Strip  386.0\n",
      "Upstream\n",
      "Vertical\n",
      "x:  -110.20060999999998  to  -15.100414999999998\n",
      "y:  -119.0\n",
      "z:  -165.0\n",
      "\n",
      "Strip  398.0\n",
      "Upstream\n",
      "Horizontal\n",
      "x:  -382.26062\n",
      "y:  -390.95  to  -295.850011\n",
      "z:  -165.0\n",
      "\n",
      "Strip  397.0\n",
      "Upstream\n",
      "Horizontal\n",
      "x:  -382.26062\n",
      "y:  -295.740009  to  -200.640057\n",
      "z:  -165.0\n",
      "\n",
      "Strip  396.0\n",
      "Upstream\n",
      "Horizontal\n",
      "x:  -382.26062\n",
      "y:  -200.530063  to  -105.43003499999998\n",
      "z:  -165.0\n",
      "\n",
      "Strip  385.0\n",
      "Upstream\n",
      "Vertical\n",
      "x:  -205.41081499999996  to  -110.31061999999997\n",
      "y:  -119.0\n",
      "z:  -165.0\n",
      "\n",
      "Strip  384.0\n",
      "Upstream\n",
      "Vertical\n",
      "x:  -300.62102100000004  to  -205.52082499999995\n",
      "y:  -119.0\n",
      "z:  -165.0\n",
      "\n",
      "Strip  383.0\n",
      "Upstream\n",
      "Vertical\n",
      "x:  -395.831226  to  -300.73103000000003\n",
      "y:  -119.0\n",
      "z:  -165.0\n",
      "\n"
     ]
    }
   ],
   "source": [
    "# Iterate through modules (groups of 32 entries (one per SiPM))\n",
    "# Find the limits of the SiPM positions\n",
    "# Use these limits to infer the strip orientation\n",
    "\n",
    "for i in range(24):\n",
    "    limits = [ 999999, -999999, 999999, -999999, 999999, -999999]\n",
    "    for j in range(32):\n",
    "        if(reduced_strips[i*32 + j, 1] < limits[0]): limits[0] = reduced_strips[i*32 + j, 1]\n",
    "        if(reduced_strips[i*32 + j, 1] > limits[1]): limits[1] = reduced_strips[i*32 + j, 1]\n",
    "        if(reduced_strips[i*32 + j, 2] < limits[2]): limits[2] = reduced_strips[i*32 + j, 2]\n",
    "        if(reduced_strips[i*32 + j, 2] > limits[3]): limits[3] = reduced_strips[i*32 + j, 2]\n",
    "        if(reduced_strips[i*32 + j, 3] < limits[4]): limits[4] = reduced_strips[i*32 + j, 3]\n",
    "        if(reduced_strips[i*32 + j, 3] > limits[5]): limits[5] = reduced_strips[i*32 + j, 3]\n",
    "    print(\"Strip \", reduced_strips[i*32, 0] / 100)\n",
    "    if(limits[4] != limits[5]): print(\"What the f*ck\")\n",
    "    if(limits[4] > 0): print(\"Downstream\")\n",
    "    else: print(\"Upstream\")\n",
    "    if(limits[0] == limits[1]): \n",
    "        print(\"Horizontal\")\n",
    "        print(\"x: \", limits[0])\n",
    "        print(\"y: \", limits[2], \" to \", limits[3])\n",
    "        print(\"z: \", limits[4])\n",
    "    if(limits[2] == limits[3]): \n",
    "        print(\"Vertical\")\n",
    "        print(\"x: \", limits[0], \" to \", limits[1])\n",
    "        print(\"y: \", limits[2])\n",
    "        print(\"z: \", limits[4])\n",
    "    print()"
   ]
  },
  {
   "cell_type": "code",
   "execution_count": null,
   "metadata": {},
   "outputs": [],
   "source": []
  }
 ],
 "metadata": {
  "kernelspec": {
   "display_name": "Python 3",
   "language": "python",
   "name": "python3"
  },
  "language_info": {
   "codemirror_mode": {
    "name": "ipython",
    "version": 3
   },
   "file_extension": ".py",
   "mimetype": "text/x-python",
   "name": "python",
   "nbconvert_exporter": "python",
   "pygments_lexer": "ipython3",
   "version": "3.8.5"
  }
 },
 "nbformat": 4,
 "nbformat_minor": 4
}
